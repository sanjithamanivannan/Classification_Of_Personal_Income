{
 "cells": [
  {
   "cell_type": "markdown",
   "metadata": {},
   "source": [
    "### Classification of Personal Income\n",
    "This project is a case study performed as part of the 'Python for Data Science' course offered by NPTEL.\n",
    "\n",
    "Classification is done using Logistic Regression and KNN classifiers and the accuracy of both the models are compared."
   ]
  },
  {
   "cell_type": "markdown",
   "metadata": {},
   "source": [
    "### Problem Statement\n",
    "* Subsidy Inc. is a company which delivers subsidies to individuals based on their income.\n",
    "* Accurate income data is one of the hardest piece of data to obtain across the world.\n",
    "* Subsidy Inc. has obtained a large data set of authenticated data on individual income, demographic parameters, and few financial parameters.\n",
    "* Subsidy Inc. wishes us to:\n",
    "    Develop an income classifier system for individuals."
   ]
  },
  {
   "cell_type": "markdown",
   "metadata": {},
   "source": [
    "### Objective\n",
    "The main objective of the case study is to simplify the data system by reducing the\n",
    "number of variables to be studied without sacrificing too much of accuracy. If we have very few parameters that needs to be\n",
    "measured, then the data collection part will be easier. So, such a system would help\n",
    "Subsidy Inc. in planning subsidy outlay, monitoring and preventing misuse."
   ]
  },
  {
   "cell_type": "markdown",
   "metadata": {},
   "source": [
    "#### Import required libraries and Dataset"
   ]
  },
  {
   "cell_type": "code",
   "execution_count": 1,
   "metadata": {},
   "outputs": [],
   "source": [
    "import pandas as pd\n",
    "import numpy as np\n",
    "import seaborn as sns\n",
    "from sklearn.model_selection import train_test_split\n",
    "from sklearn.linear_model import LogisticRegression\n",
    "from sklearn.neighbors import KNeighborsClassifier\n",
    "from sklearn.metrics import accuracy_score, confusion_matrix\n",
    "import warnings \n",
    "warnings.simplefilter('ignore')"
   ]
  },
  {
   "cell_type": "code",
   "execution_count": 2,
   "metadata": {},
   "outputs": [],
   "source": [
    "#importing data\n",
    "data = pd.read_csv(\"income.csv\")\n",
    "#creating a copy of original data\n",
    "df = data.copy()"
   ]
  },
  {
   "cell_type": "code",
   "execution_count": 3,
   "metadata": {
    "scrolled": true
   },
   "outputs": [
    {
     "data": {
      "text/html": [
       "<div>\n",
       "<style scoped>\n",
       "    .dataframe tbody tr th:only-of-type {\n",
       "        vertical-align: middle;\n",
       "    }\n",
       "\n",
       "    .dataframe tbody tr th {\n",
       "        vertical-align: top;\n",
       "    }\n",
       "\n",
       "    .dataframe thead th {\n",
       "        text-align: right;\n",
       "    }\n",
       "</style>\n",
       "<table border=\"1\" class=\"dataframe\">\n",
       "  <thead>\n",
       "    <tr style=\"text-align: right;\">\n",
       "      <th></th>\n",
       "      <th>age</th>\n",
       "      <th>JobType</th>\n",
       "      <th>EdType</th>\n",
       "      <th>maritalstatus</th>\n",
       "      <th>occupation</th>\n",
       "      <th>relationship</th>\n",
       "      <th>race</th>\n",
       "      <th>gender</th>\n",
       "      <th>capitalgain</th>\n",
       "      <th>capitalloss</th>\n",
       "      <th>hoursperweek</th>\n",
       "      <th>nativecountry</th>\n",
       "      <th>SalStat</th>\n",
       "    </tr>\n",
       "  </thead>\n",
       "  <tbody>\n",
       "    <tr>\n",
       "      <th>0</th>\n",
       "      <td>45</td>\n",
       "      <td>Private</td>\n",
       "      <td>HS-grad</td>\n",
       "      <td>Divorced</td>\n",
       "      <td>Adm-clerical</td>\n",
       "      <td>Not-in-family</td>\n",
       "      <td>White</td>\n",
       "      <td>Female</td>\n",
       "      <td>0</td>\n",
       "      <td>0</td>\n",
       "      <td>28</td>\n",
       "      <td>United-States</td>\n",
       "      <td>less than or equal to 50,000</td>\n",
       "    </tr>\n",
       "    <tr>\n",
       "      <th>1</th>\n",
       "      <td>24</td>\n",
       "      <td>Federal-gov</td>\n",
       "      <td>HS-grad</td>\n",
       "      <td>Never-married</td>\n",
       "      <td>Armed-Forces</td>\n",
       "      <td>Own-child</td>\n",
       "      <td>White</td>\n",
       "      <td>Male</td>\n",
       "      <td>0</td>\n",
       "      <td>0</td>\n",
       "      <td>40</td>\n",
       "      <td>United-States</td>\n",
       "      <td>less than or equal to 50,000</td>\n",
       "    </tr>\n",
       "    <tr>\n",
       "      <th>2</th>\n",
       "      <td>44</td>\n",
       "      <td>Private</td>\n",
       "      <td>Some-college</td>\n",
       "      <td>Married-civ-spouse</td>\n",
       "      <td>Prof-specialty</td>\n",
       "      <td>Husband</td>\n",
       "      <td>White</td>\n",
       "      <td>Male</td>\n",
       "      <td>0</td>\n",
       "      <td>0</td>\n",
       "      <td>40</td>\n",
       "      <td>United-States</td>\n",
       "      <td>greater than 50,000</td>\n",
       "    </tr>\n",
       "    <tr>\n",
       "      <th>3</th>\n",
       "      <td>27</td>\n",
       "      <td>Private</td>\n",
       "      <td>9th</td>\n",
       "      <td>Never-married</td>\n",
       "      <td>Craft-repair</td>\n",
       "      <td>Other-relative</td>\n",
       "      <td>White</td>\n",
       "      <td>Male</td>\n",
       "      <td>0</td>\n",
       "      <td>0</td>\n",
       "      <td>40</td>\n",
       "      <td>Mexico</td>\n",
       "      <td>less than or equal to 50,000</td>\n",
       "    </tr>\n",
       "    <tr>\n",
       "      <th>4</th>\n",
       "      <td>20</td>\n",
       "      <td>Private</td>\n",
       "      <td>Some-college</td>\n",
       "      <td>Never-married</td>\n",
       "      <td>Sales</td>\n",
       "      <td>Not-in-family</td>\n",
       "      <td>White</td>\n",
       "      <td>Male</td>\n",
       "      <td>0</td>\n",
       "      <td>0</td>\n",
       "      <td>35</td>\n",
       "      <td>United-States</td>\n",
       "      <td>less than or equal to 50,000</td>\n",
       "    </tr>\n",
       "  </tbody>\n",
       "</table>\n",
       "</div>"
      ],
      "text/plain": [
       "   age       JobType         EdType        maritalstatus       occupation  \\\n",
       "0   45       Private        HS-grad             Divorced     Adm-clerical   \n",
       "1   24   Federal-gov        HS-grad        Never-married     Armed-Forces   \n",
       "2   44       Private   Some-college   Married-civ-spouse   Prof-specialty   \n",
       "3   27       Private            9th        Never-married     Craft-repair   \n",
       "4   20       Private   Some-college        Never-married            Sales   \n",
       "\n",
       "      relationship    race   gender  capitalgain  capitalloss  hoursperweek  \\\n",
       "0    Not-in-family   White   Female            0            0            28   \n",
       "1        Own-child   White     Male            0            0            40   \n",
       "2          Husband   White     Male            0            0            40   \n",
       "3   Other-relative   White     Male            0            0            40   \n",
       "4    Not-in-family   White     Male            0            0            35   \n",
       "\n",
       "    nativecountry                        SalStat  \n",
       "0   United-States   less than or equal to 50,000  \n",
       "1   United-States   less than or equal to 50,000  \n",
       "2   United-States            greater than 50,000  \n",
       "3          Mexico   less than or equal to 50,000  \n",
       "4   United-States   less than or equal to 50,000  "
      ]
     },
     "execution_count": 3,
     "metadata": {},
     "output_type": "execute_result"
    }
   ],
   "source": [
    "data.head(5)"
   ]
  },
  {
   "cell_type": "code",
   "execution_count": 4,
   "metadata": {},
   "outputs": [
    {
     "data": {
      "text/plain": [
       "(31978, 13)"
      ]
     },
     "execution_count": 4,
     "metadata": {},
     "output_type": "execute_result"
    }
   ],
   "source": [
    "data.shape"
   ]
  },
  {
   "cell_type": "markdown",
   "metadata": {},
   "source": [
    "### Dataset Description\n",
    "The dataset contains 13 columns and 31978 rows. The 13 columns contain variables that describe the individual income, demographic parameters and few other financial parameters.\n",
    "\n",
    "#### Variable Description:\n",
    "1. age (int) - The age of the individual in years.\n",
    "2. JobType (string) - The working status of a person i.e. the sector in which the individual works\n",
    "3. EdType (string) - The level of education\n",
    "4. maritalstatus (string) - The marital status of the individual\n",
    "5. occupation (string) - The type of work the individual does\n",
    "6. relationship (string) - The relationship of the individual to his or her household\n",
    "7. race (string) - The individual's race\n",
    "8. gender (string) - The individual's gender\n",
    "9. capitalgain (int) - The capital gains of the individual\n",
    "10. capitalloss (int) - The capital losses of the individual\n",
    "11. hoursperweek (int) - The number of hours that the individual works per week\n",
    "12. nativecountry (string) - The native country of the individual\n",
    "13. SalStat (string) - The outcome variable indicating whether a person's salary status <= 50,000 or > 50,000"
   ]
  },
  {
   "cell_type": "markdown",
   "metadata": {},
   "source": [
    "### Exploratory Data Analysis\n",
    "1. Getting to know the data\n",
    "2. Data Preprocessing (Missing values)\n",
    "3. Cross tables and data visualization"
   ]
  },
  {
   "cell_type": "markdown",
   "metadata": {},
   "source": [
    "#### 1. Getting to know the data"
   ]
  },
  {
   "cell_type": "code",
   "execution_count": 5,
   "metadata": {},
   "outputs": [
    {
     "name": "stdout",
     "output_type": "stream",
     "text": [
      "<class 'pandas.core.frame.DataFrame'>\n",
      "RangeIndex: 31978 entries, 0 to 31977\n",
      "Data columns (total 13 columns):\n",
      " #   Column         Non-Null Count  Dtype \n",
      "---  ------         --------------  ----- \n",
      " 0   age            31978 non-null  int64 \n",
      " 1   JobType        31978 non-null  object\n",
      " 2   EdType         31978 non-null  object\n",
      " 3   maritalstatus  31978 non-null  object\n",
      " 4   occupation     31978 non-null  object\n",
      " 5   relationship   31978 non-null  object\n",
      " 6   race           31978 non-null  object\n",
      " 7   gender         31978 non-null  object\n",
      " 8   capitalgain    31978 non-null  int64 \n",
      " 9   capitalloss    31978 non-null  int64 \n",
      " 10  hoursperweek   31978 non-null  int64 \n",
      " 11  nativecountry  31978 non-null  object\n",
      " 12  SalStat        31978 non-null  object\n",
      "dtypes: int64(4), object(9)\n",
      "memory usage: 3.2+ MB\n",
      "None\n"
     ]
    }
   ],
   "source": [
    "#to check variables' data type\n",
    "print(df.info())"
   ]
  },
  {
   "cell_type": "code",
   "execution_count": 6,
   "metadata": {},
   "outputs": [
    {
     "name": "stdout",
     "output_type": "stream",
     "text": [
      "         age  JobType  EdType  maritalstatus  occupation  relationship   race  \\\n",
      "0      False    False   False          False       False         False  False   \n",
      "1      False    False   False          False       False         False  False   \n",
      "2      False    False   False          False       False         False  False   \n",
      "3      False    False   False          False       False         False  False   \n",
      "4      False    False   False          False       False         False  False   \n",
      "...      ...      ...     ...            ...         ...           ...    ...   \n",
      "31973  False    False   False          False       False         False  False   \n",
      "31974  False    False   False          False       False         False  False   \n",
      "31975  False    False   False          False       False         False  False   \n",
      "31976  False    False   False          False       False         False  False   \n",
      "31977  False    False   False          False       False         False  False   \n",
      "\n",
      "       gender  capitalgain  capitalloss  hoursperweek  nativecountry  SalStat  \n",
      "0       False        False        False         False          False    False  \n",
      "1       False        False        False         False          False    False  \n",
      "2       False        False        False         False          False    False  \n",
      "3       False        False        False         False          False    False  \n",
      "4       False        False        False         False          False    False  \n",
      "...       ...          ...          ...           ...            ...      ...  \n",
      "31973   False        False        False         False          False    False  \n",
      "31974   False        False        False         False          False    False  \n",
      "31975   False        False        False         False          False    False  \n",
      "31976   False        False        False         False          False    False  \n",
      "31977   False        False        False         False          False    False  \n",
      "\n",
      "[31978 rows x 13 columns]\n"
     ]
    }
   ],
   "source": [
    "#check for missing values\n",
    "print(df.isnull())"
   ]
  },
  {
   "cell_type": "code",
   "execution_count": 7,
   "metadata": {},
   "outputs": [
    {
     "name": "stdout",
     "output_type": "stream",
     "text": [
      "Data columns with null values:\n",
      " age              0\n",
      "JobType          0\n",
      "EdType           0\n",
      "maritalstatus    0\n",
      "occupation       0\n",
      "relationship     0\n",
      "race             0\n",
      "gender           0\n",
      "capitalgain      0\n",
      "capitalloss      0\n",
      "hoursperweek     0\n",
      "nativecountry    0\n",
      "SalStat          0\n",
      "dtype: int64\n"
     ]
    }
   ],
   "source": [
    "print('Data columns with null values:\\n',df.isnull().sum())"
   ]
  },
  {
   "cell_type": "code",
   "execution_count": 8,
   "metadata": {},
   "outputs": [
    {
     "name": "stdout",
     "output_type": "stream",
     "text": [
      "                age   capitalgain   capitalloss  hoursperweek\n",
      "count  31978.000000  31978.000000  31978.000000  31978.000000\n",
      "mean      38.579023   1064.360623     86.739352     40.417850\n",
      "std       13.662085   7298.596271    401.594301     12.345285\n",
      "min       17.000000      0.000000      0.000000      1.000000\n",
      "25%       28.000000      0.000000      0.000000     40.000000\n",
      "50%       37.000000      0.000000      0.000000     40.000000\n",
      "75%       48.000000      0.000000      0.000000     45.000000\n",
      "max       90.000000  99999.000000   4356.000000     99.000000\n"
     ]
    }
   ],
   "source": [
    "#summary of numerical variables\n",
    "summary_num = df.describe()\n",
    "print(summary_num)"
   ]
  },
  {
   "cell_type": "code",
   "execution_count": 9,
   "metadata": {},
   "outputs": [
    {
     "name": "stdout",
     "output_type": "stream",
     "text": [
      "         JobType    EdType        maritalstatus       occupation relationship  \\\n",
      "count      31978     31978                31978            31978        31978   \n",
      "unique         9        16                    7               15            6   \n",
      "top      Private   HS-grad   Married-civ-spouse   Prof-specialty      Husband   \n",
      "freq       22286     10368                14692             4038        12947   \n",
      "\n",
      "          race gender   nativecountry                        SalStat  \n",
      "count    31978  31978           31978                          31978  \n",
      "unique       5      2              41                              2  \n",
      "top      White   Male   United-States   less than or equal to 50,000  \n",
      "freq     27430  21370           29170                          24283  \n"
     ]
    }
   ],
   "source": [
    "#summary of categorical variables\n",
    "summary_cate = df.describe(include = 'O')\n",
    "print(summary_cate)"
   ]
  },
  {
   "cell_type": "code",
   "execution_count": 10,
   "metadata": {},
   "outputs": [
    {
     "data": {
      "text/plain": [
       " Prof-specialty       4038\n",
       " Craft-repair         4030\n",
       " Exec-managerial      3992\n",
       " Adm-clerical         3721\n",
       " Sales                3584\n",
       " Other-service        3212\n",
       " Machine-op-inspct    1966\n",
       " ?                    1816\n",
       " Transport-moving     1572\n",
       " Handlers-cleaners    1350\n",
       " Farming-fishing       989\n",
       " Tech-support          912\n",
       " Protective-serv       644\n",
       " Priv-house-serv       143\n",
       " Armed-Forces            9\n",
       "Name: occupation, dtype: int64"
      ]
     },
     "execution_count": 10,
     "metadata": {},
     "output_type": "execute_result"
    }
   ],
   "source": [
    "#frequency of each category\n",
    "df['JobType'].value_counts()\n",
    "df['occupation'].value_counts()"
   ]
  },
  {
   "cell_type": "code",
   "execution_count": 11,
   "metadata": {},
   "outputs": [
    {
     "name": "stdout",
     "output_type": "stream",
     "text": [
      "[' ?' ' Federal-gov' ' Local-gov' ' Never-worked' ' Private'\n",
      " ' Self-emp-inc' ' Self-emp-not-inc' ' State-gov' ' Without-pay']\n",
      "[' ?' ' Adm-clerical' ' Armed-Forces' ' Craft-repair' ' Exec-managerial'\n",
      " ' Farming-fishing' ' Handlers-cleaners' ' Machine-op-inspct'\n",
      " ' Other-service' ' Priv-house-serv' ' Prof-specialty' ' Protective-serv'\n",
      " ' Sales' ' Tech-support' ' Transport-moving']\n"
     ]
    }
   ],
   "source": [
    "#checking for unique classes\n",
    "print(np.unique(df['JobType']))\n",
    "print(np.unique(df['occupation']))"
   ]
  },
  {
   "cell_type": "code",
   "execution_count": 12,
   "metadata": {},
   "outputs": [],
   "source": [
    "#there exists '?' instead of nan\n",
    "#read the data again by including na_values[' ?'] to consider ' ?' as nan\n",
    "df = pd.read_csv('income.csv',na_values=[' ?'])"
   ]
  },
  {
   "cell_type": "markdown",
   "metadata": {},
   "source": [
    "#### 2. Data Preprocessing"
   ]
  },
  {
   "cell_type": "code",
   "execution_count": 13,
   "metadata": {},
   "outputs": [
    {
     "data": {
      "text/plain": [
       "age                 0\n",
       "JobType          1809\n",
       "EdType              0\n",
       "maritalstatus       0\n",
       "occupation       1816\n",
       "relationship        0\n",
       "race                0\n",
       "gender              0\n",
       "capitalgain         0\n",
       "capitalloss         0\n",
       "hoursperweek        0\n",
       "nativecountry       0\n",
       "SalStat             0\n",
       "dtype: int64"
      ]
     },
     "execution_count": 13,
     "metadata": {},
     "output_type": "execute_result"
    }
   ],
   "source": [
    "df.isnull().sum()"
   ]
  },
  {
   "cell_type": "code",
   "execution_count": 14,
   "metadata": {},
   "outputs": [
    {
     "name": "stdout",
     "output_type": "stream",
     "text": [
      "       age JobType         EdType        maritalstatus occupation  \\\n",
      "8       17     NaN           11th        Never-married        NaN   \n",
      "17      32     NaN   Some-college   Married-civ-spouse        NaN   \n",
      "29      22     NaN   Some-college        Never-married        NaN   \n",
      "42      52     NaN           12th        Never-married        NaN   \n",
      "44      63     NaN        1st-4th   Married-civ-spouse        NaN   \n",
      "...    ...     ...            ...                  ...        ...   \n",
      "31892   59     NaN      Bachelors   Married-civ-spouse        NaN   \n",
      "31934   20     NaN        HS-grad        Never-married        NaN   \n",
      "31945   28     NaN   Some-college   Married-civ-spouse        NaN   \n",
      "31967   80     NaN        HS-grad              Widowed        NaN   \n",
      "31968   17     NaN           11th        Never-married        NaN   \n",
      "\n",
      "          relationship    race   gender  capitalgain  capitalloss  \\\n",
      "8            Own-child   White   Female            0            0   \n",
      "17             Husband   White     Male            0            0   \n",
      "29           Own-child   White     Male            0            0   \n",
      "42      Other-relative   Black     Male          594            0   \n",
      "44             Husband   White     Male            0            0   \n",
      "...                ...     ...      ...          ...          ...   \n",
      "31892          Husband   White     Male            0            0   \n",
      "31934   Other-relative   White   Female            0            0   \n",
      "31945             Wife   White   Female            0         1887   \n",
      "31967    Not-in-family   White     Male            0            0   \n",
      "31968        Own-child   White     Male            0            0   \n",
      "\n",
      "       hoursperweek   nativecountry                        SalStat  \n",
      "8                 5   United-States   less than or equal to 50,000  \n",
      "17               40   United-States   less than or equal to 50,000  \n",
      "29               40   United-States   less than or equal to 50,000  \n",
      "42               40   United-States   less than or equal to 50,000  \n",
      "44               35   United-States   less than or equal to 50,000  \n",
      "...             ...             ...                            ...  \n",
      "31892            40   United-States            greater than 50,000  \n",
      "31934            35   United-States   less than or equal to 50,000  \n",
      "31945            40   United-States            greater than 50,000  \n",
      "31967            24   United-States   less than or equal to 50,000  \n",
      "31968            40   United-States   less than or equal to 50,000  \n",
      "\n",
      "[1816 rows x 13 columns]\n"
     ]
    }
   ],
   "source": [
    "missing = df[df.isnull().any(axis = 1)]\n",
    "print(missing)"
   ]
  },
  {
   "cell_type": "code",
   "execution_count": 15,
   "metadata": {},
   "outputs": [
    {
     "name": "stdout",
     "output_type": "stream",
     "text": [
      "       age       JobType         EdType        maritalstatus  \\\n",
      "0       45       Private        HS-grad             Divorced   \n",
      "1       24   Federal-gov        HS-grad        Never-married   \n",
      "2       44       Private   Some-college   Married-civ-spouse   \n",
      "3       27       Private            9th        Never-married   \n",
      "4       20       Private   Some-college        Never-married   \n",
      "...    ...           ...            ...                  ...   \n",
      "31973   34     Local-gov        HS-grad        Never-married   \n",
      "31974   34     Local-gov   Some-college        Never-married   \n",
      "31975   23       Private   Some-college   Married-civ-spouse   \n",
      "31976   42     Local-gov   Some-college   Married-civ-spouse   \n",
      "31977   29       Private      Bachelors        Never-married   \n",
      "\n",
      "             occupation     relationship    race   gender  capitalgain  \\\n",
      "0          Adm-clerical    Not-in-family   White   Female            0   \n",
      "1          Armed-Forces        Own-child   White     Male            0   \n",
      "2        Prof-specialty          Husband   White     Male            0   \n",
      "3          Craft-repair   Other-relative   White     Male            0   \n",
      "4                 Sales    Not-in-family   White     Male            0   \n",
      "...                 ...              ...     ...      ...          ...   \n",
      "31973   Farming-fishing    Not-in-family   Black     Male          594   \n",
      "31974   Protective-serv    Not-in-family   White   Female            0   \n",
      "31975      Adm-clerical          Husband   White     Male            0   \n",
      "31976      Adm-clerical             Wife   White   Female            0   \n",
      "31977    Prof-specialty    Not-in-family   White     Male            0   \n",
      "\n",
      "       capitalloss  hoursperweek   nativecountry  \\\n",
      "0                0            28   United-States   \n",
      "1                0            40   United-States   \n",
      "2                0            40   United-States   \n",
      "3                0            40          Mexico   \n",
      "4                0            35   United-States   \n",
      "...            ...           ...             ...   \n",
      "31973            0            60   United-States   \n",
      "31974            0            40   United-States   \n",
      "31975            0            40   United-States   \n",
      "31976            0            40   United-States   \n",
      "31977            0            40   United-States   \n",
      "\n",
      "                             SalStat  \n",
      "0       less than or equal to 50,000  \n",
      "1       less than or equal to 50,000  \n",
      "2                greater than 50,000  \n",
      "3       less than or equal to 50,000  \n",
      "4       less than or equal to 50,000  \n",
      "...                              ...  \n",
      "31973   less than or equal to 50,000  \n",
      "31974   less than or equal to 50,000  \n",
      "31975   less than or equal to 50,000  \n",
      "31976   less than or equal to 50,000  \n",
      "31977   less than or equal to 50,000  \n",
      "\n",
      "[30162 rows x 13 columns]\n"
     ]
    }
   ],
   "source": [
    "df2 = df.dropna(axis = 0)\n",
    "print(df2)"
   ]
  },
  {
   "cell_type": "code",
   "execution_count": 16,
   "metadata": {},
   "outputs": [
    {
     "name": "stdout",
     "output_type": "stream",
     "text": [
      "                   age  capitalgain  capitalloss  hoursperweek\n",
      "age           1.000000     0.080154     0.060165      0.101599\n",
      "capitalgain   0.080154     1.000000    -0.032229      0.080432\n",
      "capitalloss   0.060165    -0.032229     1.000000      0.052417\n",
      "hoursperweek  0.101599     0.080432     0.052417      1.000000\n"
     ]
    }
   ],
   "source": [
    "#relationship between independent variables\n",
    "correlation = df2.corr()\n",
    "print(correlation)"
   ]
  },
  {
   "cell_type": "markdown",
   "metadata": {},
   "source": [
    "#### 3. Cross Tables and Data Visualization"
   ]
  },
  {
   "cell_type": "code",
   "execution_count": 17,
   "metadata": {},
   "outputs": [
    {
     "data": {
      "text/plain": [
       "Index(['age', 'JobType', 'EdType', 'maritalstatus', 'occupation',\n",
       "       'relationship', 'race', 'gender', 'capitalgain', 'capitalloss',\n",
       "       'hoursperweek', 'nativecountry', 'SalStat'],\n",
       "      dtype='object')"
      ]
     },
     "execution_count": 17,
     "metadata": {},
     "output_type": "execute_result"
    }
   ],
   "source": [
    "#extracting the column names\n",
    "df2.columns"
   ]
  },
  {
   "cell_type": "markdown",
   "metadata": {},
   "source": [
    "#### Gender proportion table"
   ]
  },
  {
   "cell_type": "code",
   "execution_count": 18,
   "metadata": {},
   "outputs": [
    {
     "name": "stdout",
     "output_type": "stream",
     "text": [
      "col_0       count\n",
      "gender           \n",
      " Female  0.324315\n",
      " Male    0.675685\n"
     ]
    }
   ],
   "source": [
    "gender = pd.crosstab(index = df2['gender'],\n",
    "                     columns = 'count',\n",
    "                     normalize = True)\n",
    "print(gender)"
   ]
  },
  {
   "cell_type": "markdown",
   "metadata": {},
   "source": [
    "#### Gender Vs Salary status"
   ]
  },
  {
   "cell_type": "code",
   "execution_count": 19,
   "metadata": {
    "scrolled": true
   },
   "outputs": [
    {
     "name": "stdout",
     "output_type": "stream",
     "text": [
      "SalStat   greater than 50,000   less than or equal to 50,000\n",
      "gender                                                      \n",
      " Female              0.113678                       0.886322\n",
      " Male                0.313837                       0.686163\n",
      "All                  0.248922                       0.751078\n"
     ]
    }
   ],
   "source": [
    "gender_salstat = pd.crosstab(index = df2['gender'],\n",
    "                             columns = df2['SalStat'],\n",
    "                             margins = True,\n",
    "                             normalize = 'index') #include row and column totals\n",
    "print(gender_salstat)"
   ]
  },
  {
   "cell_type": "markdown",
   "metadata": {},
   "source": [
    "#### Frequency distribution of 'Salary status'"
   ]
  },
  {
   "cell_type": "code",
   "execution_count": 20,
   "metadata": {},
   "outputs": [
    {
     "data": {
      "image/png": "[encoded data removed]",
      "text/plain": [
       "<Figure size 432x288 with 1 Axes>"
      ]
     },
     "metadata": {
      "needs_background": "light"
     },
     "output_type": "display_data"
    }
   ],
   "source": [
    "SalStat = sns.countplot(df2['SalStat'])"
   ]
  },
  {
   "cell_type": "markdown",
   "metadata": {},
   "source": [
    "75% of people's salary status is <=50,000\n",
    "\n",
    "25% of people's salary status is > 50,000"
   ]
  },
  {
   "cell_type": "markdown",
   "metadata": {},
   "source": [
    "#### Histogram of Age"
   ]
  },
  {
   "cell_type": "code",
   "execution_count": 21,
   "metadata": {
    "scrolled": true
   },
   "outputs": [
    {
     "data": {
      "text/plain": [
       "[Text(0.5, 1.0, 'Histogram of Age'),\n",
       " Text(0.5, 0, 'age'),\n",
       " Text(0, 0.5, 'count')]"
      ]
     },
     "execution_count": 21,
     "metadata": {},
     "output_type": "execute_result"
    },
    {
     "data": {
      "image/png": "[encoded data removed]",
      "text/plain": [
       "<Figure size 432x288 with 1 Axes>"
      ]
     },
     "metadata": {
      "needs_background": "light"
     },
     "output_type": "display_data"
    }
   ],
   "source": [
    "sns.distplot(df2['age'], bins=10, kde=False).set(title = 'Histogram of Age', xlabel = 'age', ylabel = 'count')"
   ]
  },
  {
   "cell_type": "markdown",
   "metadata": {},
   "source": [
    "People with age 20-45 are high in frequency"
   ]
  },
  {
   "cell_type": "markdown",
   "metadata": {},
   "source": [
    "#### Box Plot - Age Vs Salary status"
   ]
  },
  {
   "cell_type": "code",
   "execution_count": 22,
   "metadata": {},
   "outputs": [
    {
     "data": {
      "text/plain": [
       "SalStat\n",
       " greater than 50,000             43\n",
       " less than or equal to 50,000    34\n",
       "Name: age, dtype: int64"
      ]
     },
     "execution_count": 22,
     "metadata": {},
     "output_type": "execute_result"
    },
    {
     "data": {
      "image/png": "[encoded data removed]",
      "text/plain": [
       "<Figure size 432x288 with 1 Axes>"
      ]
     },
     "metadata": {
      "needs_background": "light"
     },
     "output_type": "display_data"
    }
   ],
   "source": [
    "sns.boxplot('SalStat', 'age', data=df2)\n",
    "df2.groupby('SalStat')['age'].median()"
   ]
  },
  {
   "cell_type": "markdown",
   "metadata": {},
   "source": [
    "People with 35-50 age are more likely to earn > 50000 USD p.a\n",
    "\n",
    "People with 25-35 age are more likely to earn <= 50000 USD p.a"
   ]
  },
  {
   "cell_type": "markdown",
   "metadata": {},
   "source": [
    "#### JobType Vs Salary status"
   ]
  },
  {
   "cell_type": "code",
   "execution_count": 23,
   "metadata": {},
   "outputs": [
    {
     "data": {
      "text/html": [
       "<div>\n",
       "<style scoped>\n",
       "    .dataframe tbody tr th:only-of-type {\n",
       "        vertical-align: middle;\n",
       "    }\n",
       "\n",
       "    .dataframe tbody tr th {\n",
       "        vertical-align: top;\n",
       "    }\n",
       "\n",
       "    .dataframe thead th {\n",
       "        text-align: right;\n",
       "    }\n",
       "</style>\n",
       "<table border=\"1\" class=\"dataframe\">\n",
       "  <thead>\n",
       "    <tr style=\"text-align: right;\">\n",
       "      <th>SalStat</th>\n",
       "      <th>greater than 50,000</th>\n",
       "      <th>less than or equal to 50,000</th>\n",
       "    </tr>\n",
       "    <tr>\n",
       "      <th>JobType</th>\n",
       "      <th></th>\n",
       "      <th></th>\n",
       "    </tr>\n",
       "  </thead>\n",
       "  <tbody>\n",
       "    <tr>\n",
       "      <th>Federal-gov</th>\n",
       "      <td>38.7</td>\n",
       "      <td>61.3</td>\n",
       "    </tr>\n",
       "    <tr>\n",
       "      <th>Local-gov</th>\n",
       "      <td>29.5</td>\n",
       "      <td>70.5</td>\n",
       "    </tr>\n",
       "    <tr>\n",
       "      <th>Private</th>\n",
       "      <td>21.9</td>\n",
       "      <td>78.1</td>\n",
       "    </tr>\n",
       "    <tr>\n",
       "      <th>Self-emp-inc</th>\n",
       "      <td>55.9</td>\n",
       "      <td>44.1</td>\n",
       "    </tr>\n",
       "    <tr>\n",
       "      <th>Self-emp-not-inc</th>\n",
       "      <td>28.6</td>\n",
       "      <td>71.4</td>\n",
       "    </tr>\n",
       "    <tr>\n",
       "      <th>State-gov</th>\n",
       "      <td>26.9</td>\n",
       "      <td>73.1</td>\n",
       "    </tr>\n",
       "    <tr>\n",
       "      <th>Without-pay</th>\n",
       "      <td>0.0</td>\n",
       "      <td>100.0</td>\n",
       "    </tr>\n",
       "    <tr>\n",
       "      <th>All</th>\n",
       "      <td>24.9</td>\n",
       "      <td>75.1</td>\n",
       "    </tr>\n",
       "  </tbody>\n",
       "</table>\n",
       "</div>"
      ],
      "text/plain": [
       "SalStat             greater than 50,000   less than or equal to 50,000\n",
       "JobType                                                               \n",
       " Federal-gov                       38.7                           61.3\n",
       " Local-gov                         29.5                           70.5\n",
       " Private                           21.9                           78.1\n",
       " Self-emp-inc                      55.9                           44.1\n",
       " Self-emp-not-inc                  28.6                           71.4\n",
       " State-gov                         26.9                           73.1\n",
       " Without-pay                        0.0                          100.0\n",
       "All                                24.9                           75.1"
      ]
     },
     "execution_count": 23,
     "metadata": {},
     "output_type": "execute_result"
    },
    {
     "data": {
      "image/png": "[encoded data removed]",
      "text/plain": [
       "<Figure size 432x288 with 1 Axes>"
      ]
     },
     "metadata": {
      "needs_background": "light"
     },
     "output_type": "display_data"
    }
   ],
   "source": [
    "JobType = sns.countplot(y=df2['JobType'],hue = 'SalStat', data=df2)\n",
    "job_salstat = pd.crosstab(index = df2[\"JobType\"],\n",
    "                          columns = df2['SalStat'], \n",
    "                          margins = True, \n",
    "                          normalize =  'index')  \n",
    "round(job_salstat*100,1)"
   ]
  },
  {
   "cell_type": "markdown",
   "metadata": {},
   "source": [
    "56% of self employed people earn >50000 USD per year."
   ]
  },
  {
   "cell_type": "markdown",
   "metadata": {},
   "source": [
    "#### Education Vs Salary status"
   ]
  },
  {
   "cell_type": "code",
   "execution_count": 24,
   "metadata": {},
   "outputs": [
    {
     "data": {
      "text/html": [
       "<div>\n",
       "<style scoped>\n",
       "    .dataframe tbody tr th:only-of-type {\n",
       "        vertical-align: middle;\n",
       "    }\n",
       "\n",
       "    .dataframe tbody tr th {\n",
       "        vertical-align: top;\n",
       "    }\n",
       "\n",
       "    .dataframe thead th {\n",
       "        text-align: right;\n",
       "    }\n",
       "</style>\n",
       "<table border=\"1\" class=\"dataframe\">\n",
       "  <thead>\n",
       "    <tr style=\"text-align: right;\">\n",
       "      <th>SalStat</th>\n",
       "      <th>greater than 50,000</th>\n",
       "      <th>less than or equal to 50,000</th>\n",
       "    </tr>\n",
       "    <tr>\n",
       "      <th>EdType</th>\n",
       "      <th></th>\n",
       "      <th></th>\n",
       "    </tr>\n",
       "  </thead>\n",
       "  <tbody>\n",
       "    <tr>\n",
       "      <th>10th</th>\n",
       "      <td>7.2</td>\n",
       "      <td>92.8</td>\n",
       "    </tr>\n",
       "    <tr>\n",
       "      <th>11th</th>\n",
       "      <td>5.6</td>\n",
       "      <td>94.4</td>\n",
       "    </tr>\n",
       "    <tr>\n",
       "      <th>12th</th>\n",
       "      <td>7.7</td>\n",
       "      <td>92.3</td>\n",
       "    </tr>\n",
       "    <tr>\n",
       "      <th>1st-4th</th>\n",
       "      <td>4.0</td>\n",
       "      <td>96.0</td>\n",
       "    </tr>\n",
       "    <tr>\n",
       "      <th>5th-6th</th>\n",
       "      <td>4.2</td>\n",
       "      <td>95.8</td>\n",
       "    </tr>\n",
       "    <tr>\n",
       "      <th>7th-8th</th>\n",
       "      <td>6.3</td>\n",
       "      <td>93.7</td>\n",
       "    </tr>\n",
       "    <tr>\n",
       "      <th>9th</th>\n",
       "      <td>5.5</td>\n",
       "      <td>94.5</td>\n",
       "    </tr>\n",
       "    <tr>\n",
       "      <th>Assoc-acdm</th>\n",
       "      <td>25.4</td>\n",
       "      <td>74.6</td>\n",
       "    </tr>\n",
       "    <tr>\n",
       "      <th>Assoc-voc</th>\n",
       "      <td>26.3</td>\n",
       "      <td>73.7</td>\n",
       "    </tr>\n",
       "    <tr>\n",
       "      <th>Bachelors</th>\n",
       "      <td>42.1</td>\n",
       "      <td>57.9</td>\n",
       "    </tr>\n",
       "    <tr>\n",
       "      <th>Doctorate</th>\n",
       "      <td>74.7</td>\n",
       "      <td>25.3</td>\n",
       "    </tr>\n",
       "    <tr>\n",
       "      <th>HS-grad</th>\n",
       "      <td>16.4</td>\n",
       "      <td>83.6</td>\n",
       "    </tr>\n",
       "    <tr>\n",
       "      <th>Masters</th>\n",
       "      <td>56.4</td>\n",
       "      <td>43.6</td>\n",
       "    </tr>\n",
       "    <tr>\n",
       "      <th>Preschool</th>\n",
       "      <td>0.0</td>\n",
       "      <td>100.0</td>\n",
       "    </tr>\n",
       "    <tr>\n",
       "      <th>Prof-school</th>\n",
       "      <td>74.9</td>\n",
       "      <td>25.1</td>\n",
       "    </tr>\n",
       "    <tr>\n",
       "      <th>Some-college</th>\n",
       "      <td>20.0</td>\n",
       "      <td>80.0</td>\n",
       "    </tr>\n",
       "    <tr>\n",
       "      <th>All</th>\n",
       "      <td>24.9</td>\n",
       "      <td>75.1</td>\n",
       "    </tr>\n",
       "  </tbody>\n",
       "</table>\n",
       "</div>"
      ],
      "text/plain": [
       "SalStat         greater than 50,000   less than or equal to 50,000\n",
       "EdType                                                            \n",
       " 10th                           7.2                           92.8\n",
       " 11th                           5.6                           94.4\n",
       " 12th                           7.7                           92.3\n",
       " 1st-4th                        4.0                           96.0\n",
       " 5th-6th                        4.2                           95.8\n",
       " 7th-8th                        6.3                           93.7\n",
       " 9th                            5.5                           94.5\n",
       " Assoc-acdm                    25.4                           74.6\n",
       " Assoc-voc                     26.3                           73.7\n",
       " Bachelors                     42.1                           57.9\n",
       " Doctorate                     74.7                           25.3\n",
       " HS-grad                       16.4                           83.6\n",
       " Masters                       56.4                           43.6\n",
       " Preschool                      0.0                          100.0\n",
       " Prof-school                   74.9                           25.1\n",
       " Some-college                  20.0                           80.0\n",
       "All                            24.9                           75.1"
      ]
     },
     "execution_count": 24,
     "metadata": {},
     "output_type": "execute_result"
    },
    {
     "data": {
      "image/png": "[encoded data removed]",
      "text/plain": [
       "<Figure size 432x288 with 1 Axes>"
      ]
     },
     "metadata": {
      "needs_background": "light"
     },
     "output_type": "display_data"
    }
   ],
   "source": [
    "Education = sns.countplot(y=df2['EdType'],hue = 'SalStat', data=df2)\n",
    "EdType_salstat = pd.crosstab(index = df2[\"EdType\"], \n",
    "                             columns = df2['SalStat'],\n",
    "                             margins = True,\n",
    "                             normalize ='index')  \n",
    "round(EdType_salstat*100,1)"
   ]
  },
  {
   "cell_type": "markdown",
   "metadata": {},
   "source": [
    "People who have done Masters, Doctorate, Prof-school are more likely to earn > 50000 USD per year when compared to others."
   ]
  },
  {
   "cell_type": "markdown",
   "metadata": {},
   "source": [
    "#### Occupation Vs Salary status"
   ]
  },
  {
   "cell_type": "code",
   "execution_count": 25,
   "metadata": {},
   "outputs": [
    {
     "data": {
      "text/html": [
       "<div>\n",
       "<style scoped>\n",
       "    .dataframe tbody tr th:only-of-type {\n",
       "        vertical-align: middle;\n",
       "    }\n",
       "\n",
       "    .dataframe tbody tr th {\n",
       "        vertical-align: top;\n",
       "    }\n",
       "\n",
       "    .dataframe thead th {\n",
       "        text-align: right;\n",
       "    }\n",
       "</style>\n",
       "<table border=\"1\" class=\"dataframe\">\n",
       "  <thead>\n",
       "    <tr style=\"text-align: right;\">\n",
       "      <th>SalStat</th>\n",
       "      <th>greater than 50,000</th>\n",
       "      <th>less than or equal to 50,000</th>\n",
       "    </tr>\n",
       "    <tr>\n",
       "      <th>occupation</th>\n",
       "      <th></th>\n",
       "      <th></th>\n",
       "    </tr>\n",
       "  </thead>\n",
       "  <tbody>\n",
       "    <tr>\n",
       "      <th>Adm-clerical</th>\n",
       "      <td>13.4</td>\n",
       "      <td>86.6</td>\n",
       "    </tr>\n",
       "    <tr>\n",
       "      <th>Armed-Forces</th>\n",
       "      <td>11.1</td>\n",
       "      <td>88.9</td>\n",
       "    </tr>\n",
       "    <tr>\n",
       "      <th>Craft-repair</th>\n",
       "      <td>22.5</td>\n",
       "      <td>77.5</td>\n",
       "    </tr>\n",
       "    <tr>\n",
       "      <th>Exec-managerial</th>\n",
       "      <td>48.5</td>\n",
       "      <td>51.5</td>\n",
       "    </tr>\n",
       "    <tr>\n",
       "      <th>Farming-fishing</th>\n",
       "      <td>11.6</td>\n",
       "      <td>88.4</td>\n",
       "    </tr>\n",
       "    <tr>\n",
       "      <th>Handlers-cleaners</th>\n",
       "      <td>6.1</td>\n",
       "      <td>93.9</td>\n",
       "    </tr>\n",
       "    <tr>\n",
       "      <th>Machine-op-inspct</th>\n",
       "      <td>12.5</td>\n",
       "      <td>87.5</td>\n",
       "    </tr>\n",
       "    <tr>\n",
       "      <th>Other-service</th>\n",
       "      <td>4.1</td>\n",
       "      <td>95.9</td>\n",
       "    </tr>\n",
       "    <tr>\n",
       "      <th>Priv-house-serv</th>\n",
       "      <td>0.7</td>\n",
       "      <td>99.3</td>\n",
       "    </tr>\n",
       "    <tr>\n",
       "      <th>Prof-specialty</th>\n",
       "      <td>44.8</td>\n",
       "      <td>55.2</td>\n",
       "    </tr>\n",
       "    <tr>\n",
       "      <th>Protective-serv</th>\n",
       "      <td>32.6</td>\n",
       "      <td>67.4</td>\n",
       "    </tr>\n",
       "    <tr>\n",
       "      <th>Sales</th>\n",
       "      <td>27.1</td>\n",
       "      <td>72.9</td>\n",
       "    </tr>\n",
       "    <tr>\n",
       "      <th>Tech-support</th>\n",
       "      <td>30.5</td>\n",
       "      <td>69.5</td>\n",
       "    </tr>\n",
       "    <tr>\n",
       "      <th>Transport-moving</th>\n",
       "      <td>20.3</td>\n",
       "      <td>79.7</td>\n",
       "    </tr>\n",
       "    <tr>\n",
       "      <th>All</th>\n",
       "      <td>24.9</td>\n",
       "      <td>75.1</td>\n",
       "    </tr>\n",
       "  </tbody>\n",
       "</table>\n",
       "</div>"
      ],
      "text/plain": [
       "SalStat              greater than 50,000   less than or equal to 50,000\n",
       "occupation                                                             \n",
       " Adm-clerical                       13.4                           86.6\n",
       " Armed-Forces                       11.1                           88.9\n",
       " Craft-repair                       22.5                           77.5\n",
       " Exec-managerial                    48.5                           51.5\n",
       " Farming-fishing                    11.6                           88.4\n",
       " Handlers-cleaners                   6.1                           93.9\n",
       " Machine-op-inspct                  12.5                           87.5\n",
       " Other-service                       4.1                           95.9\n",
       " Priv-house-serv                     0.7                           99.3\n",
       " Prof-specialty                     44.8                           55.2\n",
       " Protective-serv                    32.6                           67.4\n",
       " Sales                              27.1                           72.9\n",
       " Tech-support                       30.5                           69.5\n",
       " Transport-moving                   20.3                           79.7\n",
       "All                                 24.9                           75.1"
      ]
     },
     "execution_count": 25,
     "metadata": {},
     "output_type": "execute_result"
    },
    {
     "data": {
      "image/png": "[encoded data removed]",
      "text/plain": [
       "<Figure size 432x288 with 1 Axes>"
      ]
     },
     "metadata": {
      "needs_background": "light"
     },
     "output_type": "display_data"
    }
   ],
   "source": [
    "Occupation  = sns.countplot(y=df2['occupation'],hue = 'SalStat', data=df2)\n",
    "occ_salstat = pd.crosstab(index = df2[\"occupation\"], \n",
    "                          columns =df2['SalStat'],\n",
    "                          margins = True,\n",
    "                          normalize = 'index')  \n",
    "round(occ_salstat*100,1)"
   ]
  },
  {
   "cell_type": "markdown",
   "metadata": {},
   "source": [
    "People who make > 50000 USD per year are more likely to work as Managers and Professionals."
   ]
  },
  {
   "cell_type": "markdown",
   "metadata": {},
   "source": [
    "#### Capital Gain"
   ]
  },
  {
   "cell_type": "code",
   "execution_count": 26,
   "metadata": {},
   "outputs": [
    {
     "data": {
      "text/plain": [
       "<AxesSubplot:xlabel='capitalgain'>"
      ]
     },
     "execution_count": 26,
     "metadata": {},
     "output_type": "execute_result"
    },
    {
     "data": {
      "image/png": "[encoded data removed]",
      "text/plain": [
       "<Figure size 432x288 with 1 Axes>"
      ]
     },
     "metadata": {
      "needs_background": "light"
     },
     "output_type": "display_data"
    }
   ],
   "source": [
    "sns.distplot(df2['capitalgain'], bins = 10, kde = False)"
   ]
  },
  {
   "cell_type": "markdown",
   "metadata": {},
   "source": [
    "#### Capital Loss"
   ]
  },
  {
   "cell_type": "code",
   "execution_count": 27,
   "metadata": {},
   "outputs": [
    {
     "data": {
      "text/plain": [
       "<AxesSubplot:xlabel='capitalloss'>"
      ]
     },
     "execution_count": 27,
     "metadata": {},
     "output_type": "execute_result"
    },
    {
     "data": {
      "image/png": "[encoded data removed]",
      "text/plain": [
       "<Figure size 432x288 with 1 Axes>"
      ]
     },
     "metadata": {
      "needs_background": "light"
     },
     "output_type": "display_data"
    }
   ],
   "source": [
    "sns.distplot(df2['capitalloss'], bins = 10, kde = False)"
   ]
  },
  {
   "cell_type": "markdown",
   "metadata": {},
   "source": [
    "### Logistic Regression"
   ]
  },
  {
   "cell_type": "code",
   "execution_count": 28,
   "metadata": {},
   "outputs": [
    {
     "name": "stdout",
     "output_type": "stream",
     "text": [
      "0        0\n",
      "1        0\n",
      "2        1\n",
      "3        0\n",
      "4        0\n",
      "        ..\n",
      "31973    0\n",
      "31974    0\n",
      "31975    0\n",
      "31976    0\n",
      "31977    0\n",
      "Name: SalStat, Length: 30162, dtype: int64\n"
     ]
    }
   ],
   "source": [
    "# Reindexing the salary status names to 0,1\n",
    "df2['SalStat'] = df2['SalStat'].map({' less than or equal to 50,000':0,' greater than 50,000':1})\n",
    "print(df2['SalStat'])"
   ]
  },
  {
   "cell_type": "code",
   "execution_count": 29,
   "metadata": {},
   "outputs": [],
   "source": [
    "new_data = pd.get_dummies(df2, drop_first=True)"
   ]
  },
  {
   "cell_type": "code",
   "execution_count": 30,
   "metadata": {},
   "outputs": [
    {
     "name": "stdout",
     "output_type": "stream",
     "text": [
      "['age', 'capitalgain', 'capitalloss', 'hoursperweek', 'SalStat', 'JobType_ Local-gov', 'JobType_ Private', 'JobType_ Self-emp-inc', 'JobType_ Self-emp-not-inc', 'JobType_ State-gov', 'JobType_ Without-pay', 'EdType_ 11th', 'EdType_ 12th', 'EdType_ 1st-4th', 'EdType_ 5th-6th', 'EdType_ 7th-8th', 'EdType_ 9th', 'EdType_ Assoc-acdm', 'EdType_ Assoc-voc', 'EdType_ Bachelors', 'EdType_ Doctorate', 'EdType_ HS-grad', 'EdType_ Masters', 'EdType_ Preschool', 'EdType_ Prof-school', 'EdType_ Some-college', 'maritalstatus_ Married-AF-spouse', 'maritalstatus_ Married-civ-spouse', 'maritalstatus_ Married-spouse-absent', 'maritalstatus_ Never-married', 'maritalstatus_ Separated', 'maritalstatus_ Widowed', 'occupation_ Armed-Forces', 'occupation_ Craft-repair', 'occupation_ Exec-managerial', 'occupation_ Farming-fishing', 'occupation_ Handlers-cleaners', 'occupation_ Machine-op-inspct', 'occupation_ Other-service', 'occupation_ Priv-house-serv', 'occupation_ Prof-specialty', 'occupation_ Protective-serv', 'occupation_ Sales', 'occupation_ Tech-support', 'occupation_ Transport-moving', 'relationship_ Not-in-family', 'relationship_ Other-relative', 'relationship_ Own-child', 'relationship_ Unmarried', 'relationship_ Wife', 'race_ Asian-Pac-Islander', 'race_ Black', 'race_ Other', 'race_ White', 'gender_ Male', 'nativecountry_ Canada', 'nativecountry_ China', 'nativecountry_ Columbia', 'nativecountry_ Cuba', 'nativecountry_ Dominican-Republic', 'nativecountry_ Ecuador', 'nativecountry_ El-Salvador', 'nativecountry_ England', 'nativecountry_ France', 'nativecountry_ Germany', 'nativecountry_ Greece', 'nativecountry_ Guatemala', 'nativecountry_ Haiti', 'nativecountry_ Holand-Netherlands', 'nativecountry_ Honduras', 'nativecountry_ Hong', 'nativecountry_ Hungary', 'nativecountry_ India', 'nativecountry_ Iran', 'nativecountry_ Ireland', 'nativecountry_ Italy', 'nativecountry_ Jamaica', 'nativecountry_ Japan', 'nativecountry_ Laos', 'nativecountry_ Mexico', 'nativecountry_ Nicaragua', 'nativecountry_ Outlying-US(Guam-USVI-etc)', 'nativecountry_ Peru', 'nativecountry_ Philippines', 'nativecountry_ Poland', 'nativecountry_ Portugal', 'nativecountry_ Puerto-Rico', 'nativecountry_ Scotland', 'nativecountry_ South', 'nativecountry_ Taiwan', 'nativecountry_ Thailand', 'nativecountry_ Trinadad&Tobago', 'nativecountry_ United-States', 'nativecountry_ Vietnam', 'nativecountry_ Yugoslavia']\n"
     ]
    }
   ],
   "source": [
    "# Storing the column names \n",
    "columns_list = list(new_data.columns)\n",
    "print(columns_list)"
   ]
  },
  {
   "cell_type": "code",
   "execution_count": 31,
   "metadata": {},
   "outputs": [
    {
     "name": "stdout",
     "output_type": "stream",
     "text": [
      "['nativecountry_ Portugal', 'relationship_ Own-child', 'race_ Other', 'EdType_ Doctorate', 'nativecountry_ Outlying-US(Guam-USVI-etc)', 'JobType_ State-gov', 'nativecountry_ Canada', 'EdType_ 9th', 'EdType_ Masters', 'relationship_ Other-relative', 'capitalgain', 'nativecountry_ Nicaragua', 'EdType_ Bachelors', 'nativecountry_ Dominican-Republic', 'nativecountry_ Guatemala', 'nativecountry_ Thailand', 'relationship_ Not-in-family', 'occupation_ Exec-managerial', 'nativecountry_ Haiti', 'EdType_ Assoc-voc', 'occupation_ Priv-house-serv', 'nativecountry_ Peru', 'nativecountry_ Hungary', 'race_ White', 'nativecountry_ Hong', 'occupation_ Prof-specialty', 'nativecountry_ Yugoslavia', 'JobType_ Without-pay', 'maritalstatus_ Married-AF-spouse', 'EdType_ Preschool', 'nativecountry_ Holand-Netherlands', 'nativecountry_ Jamaica', 'hoursperweek', 'EdType_ 12th', 'occupation_ Other-service', 'EdType_ 5th-6th', 'maritalstatus_ Widowed', 'nativecountry_ Taiwan', 'occupation_ Armed-Forces', 'nativecountry_ South', 'nativecountry_ El-Salvador', 'capitalloss', 'nativecountry_ Laos', 'nativecountry_ Mexico', 'nativecountry_ United-States', 'nativecountry_ Trinadad&Tobago', 'maritalstatus_ Never-married', 'nativecountry_ Puerto-Rico', 'occupation_ Handlers-cleaners', 'occupation_ Sales', 'race_ Asian-Pac-Islander', 'gender_ Male', 'nativecountry_ Cuba', 'relationship_ Wife', 'occupation_ Farming-fishing', 'nativecountry_ Vietnam', 'JobType_ Self-emp-inc', 'EdType_ HS-grad', 'nativecountry_ Italy', 'maritalstatus_ Married-spouse-absent', 'nativecountry_ Scotland', 'occupation_ Protective-serv', 'maritalstatus_ Separated', 'EdType_ 1st-4th', 'JobType_ Private', 'nativecountry_ Ecuador', 'occupation_ Tech-support', 'EdType_ 11th', 'JobType_ Local-gov', 'nativecountry_ China', 'JobType_ Self-emp-not-inc', 'nativecountry_ Greece', 'nativecountry_ France', 'nativecountry_ Germany', 'occupation_ Machine-op-inspct', 'nativecountry_ Poland', 'race_ Black', 'age', 'nativecountry_ Philippines', 'relationship_ Unmarried', 'maritalstatus_ Married-civ-spouse', 'nativecountry_ Japan', 'EdType_ Prof-school', 'nativecountry_ Honduras', 'EdType_ 7th-8th', 'nativecountry_ India', 'nativecountry_ Iran', 'nativecountry_ Columbia', 'EdType_ Some-college', 'EdType_ Assoc-acdm', 'nativecountry_ England', 'occupation_ Transport-moving', 'nativecountry_ Ireland', 'occupation_ Craft-repair']\n"
     ]
    }
   ],
   "source": [
    "# Separating the input names from data\n",
    "features = list(set(columns_list)-set(['SalStat']))\n",
    "print(features)"
   ]
  },
  {
   "cell_type": "code",
   "execution_count": 32,
   "metadata": {},
   "outputs": [
    {
     "name": "stdout",
     "output_type": "stream",
     "text": [
      "[0 0 1 ... 0 0 0]\n"
     ]
    }
   ],
   "source": [
    "# Storing the output values in y\n",
    "y = new_data['SalStat'].values\n",
    "print(y)"
   ]
  },
  {
   "cell_type": "code",
   "execution_count": 33,
   "metadata": {},
   "outputs": [
    {
     "name": "stdout",
     "output_type": "stream",
     "text": [
      "[[0 0 0 ... 0 0 0]\n",
      " [0 1 0 ... 0 0 0]\n",
      " [0 0 0 ... 0 0 0]\n",
      " ...\n",
      " [0 0 0 ... 0 0 0]\n",
      " [0 0 0 ... 0 0 0]\n",
      " [0 0 0 ... 0 0 0]]\n"
     ]
    }
   ],
   "source": [
    "# Storing the values from input features\n",
    "x = new_data[features].values\n",
    "print(x)"
   ]
  },
  {
   "cell_type": "code",
   "execution_count": 34,
   "metadata": {},
   "outputs": [],
   "source": [
    "# Splitting the data into train and test\n",
    "train_x, test_x, train_y, test_y = train_test_split(x, y, test_size = 0.3, random_state = 0)"
   ]
  },
  {
   "cell_type": "code",
   "execution_count": 35,
   "metadata": {},
   "outputs": [],
   "source": [
    "# Make an instance of the model\n",
    "logistic = LogisticRegression()"
   ]
  },
  {
   "cell_type": "code",
   "execution_count": 36,
   "metadata": {},
   "outputs": [
    {
     "data": {
      "text/plain": [
       "array([-1.04044133])"
      ]
     },
     "execution_count": 36,
     "metadata": {},
     "output_type": "execute_result"
    }
   ],
   "source": [
    "# Fitting the values for x and y\n",
    "logistic.fit(train_x,train_y)\n",
    "logistic.coef_\n",
    "logistic.intercept_"
   ]
  },
  {
   "cell_type": "code",
   "execution_count": 37,
   "metadata": {},
   "outputs": [
    {
     "name": "stdout",
     "output_type": "stream",
     "text": [
      "[0 0 0 ... 0 0 0]\n"
     ]
    }
   ],
   "source": [
    "# Prediction using test data\n",
    "prediction = logistic.predict(test_x)\n",
    "print(prediction)"
   ]
  },
  {
   "cell_type": "code",
   "execution_count": 38,
   "metadata": {
    "scrolled": true
   },
   "outputs": [
    {
     "name": "stdout",
     "output_type": "stream",
     "text": [
      "[[6291  532]\n",
      " [ 947 1279]]\n"
     ]
    }
   ],
   "source": [
    "# Confusion matrix\n",
    "conf_matrix = confusion_matrix(test_y, prediction)\n",
    "print(conf_matrix)"
   ]
  },
  {
   "cell_type": "code",
   "execution_count": 39,
   "metadata": {},
   "outputs": [
    {
     "name": "stdout",
     "output_type": "stream",
     "text": [
      "0.8365565255829374\n"
     ]
    }
   ],
   "source": [
    "# Calculating the accuracy\n",
    "acc_score = accuracy_score(test_y, prediction)\n",
    "print(acc_score)"
   ]
  },
  {
   "cell_type": "code",
   "execution_count": 40,
   "metadata": {},
   "outputs": [
    {
     "name": "stdout",
     "output_type": "stream",
     "text": [
      "Misclassified samples: 1479\n"
     ]
    }
   ],
   "source": [
    "# Printing the misclassified values from prediction\n",
    "print('Misclassified samples: %d' % (test_y != prediction).sum())"
   ]
  },
  {
   "cell_type": "markdown",
   "metadata": {},
   "source": [
    "### Logistic Regression - Removing Insignificant Variables"
   ]
  },
  {
   "cell_type": "code",
   "execution_count": 41,
   "metadata": {},
   "outputs": [
    {
     "name": "stdout",
     "output_type": "stream",
     "text": [
      "       age       JobType         EdType        maritalstatus  \\\n",
      "0       45       Private        HS-grad             Divorced   \n",
      "1       24   Federal-gov        HS-grad        Never-married   \n",
      "2       44       Private   Some-college   Married-civ-spouse   \n",
      "3       27       Private            9th        Never-married   \n",
      "4       20       Private   Some-college        Never-married   \n",
      "...    ...           ...            ...                  ...   \n",
      "31973   34     Local-gov        HS-grad        Never-married   \n",
      "31974   34     Local-gov   Some-college        Never-married   \n",
      "31975   23       Private   Some-college   Married-civ-spouse   \n",
      "31976   42     Local-gov   Some-college   Married-civ-spouse   \n",
      "31977   29       Private      Bachelors        Never-married   \n",
      "\n",
      "             occupation     relationship    race   gender  capitalgain  \\\n",
      "0          Adm-clerical    Not-in-family   White   Female            0   \n",
      "1          Armed-Forces        Own-child   White     Male            0   \n",
      "2        Prof-specialty          Husband   White     Male            0   \n",
      "3          Craft-repair   Other-relative   White     Male            0   \n",
      "4                 Sales    Not-in-family   White     Male            0   \n",
      "...                 ...              ...     ...      ...          ...   \n",
      "31973   Farming-fishing    Not-in-family   Black     Male          594   \n",
      "31974   Protective-serv    Not-in-family   White   Female            0   \n",
      "31975      Adm-clerical          Husband   White     Male            0   \n",
      "31976      Adm-clerical             Wife   White   Female            0   \n",
      "31977    Prof-specialty    Not-in-family   White     Male            0   \n",
      "\n",
      "       capitalloss  hoursperweek   nativecountry  \\\n",
      "0                0            28   United-States   \n",
      "1                0            40   United-States   \n",
      "2                0            40   United-States   \n",
      "3                0            40          Mexico   \n",
      "4                0            35   United-States   \n",
      "...            ...           ...             ...   \n",
      "31973            0            60   United-States   \n",
      "31974            0            40   United-States   \n",
      "31975            0            40   United-States   \n",
      "31976            0            40   United-States   \n",
      "31977            0            40   United-States   \n",
      "\n",
      "                             SalStat  \n",
      "0       less than or equal to 50,000  \n",
      "1       less than or equal to 50,000  \n",
      "2                greater than 50,000  \n",
      "3       less than or equal to 50,000  \n",
      "4       less than or equal to 50,000  \n",
      "...                              ...  \n",
      "31973   less than or equal to 50,000  \n",
      "31974   less than or equal to 50,000  \n",
      "31975   less than or equal to 50,000  \n",
      "31976   less than or equal to 50,000  \n",
      "31977   less than or equal to 50,000  \n",
      "\n",
      "[30162 rows x 13 columns]\n"
     ]
    }
   ],
   "source": [
    "df3 = df.dropna(axis = 0)\n",
    "print(df3)"
   ]
  },
  {
   "cell_type": "code",
   "execution_count": 42,
   "metadata": {
    "scrolled": true
   },
   "outputs": [
    {
     "name": "stdout",
     "output_type": "stream",
     "text": [
      "0        0\n",
      "1        0\n",
      "2        1\n",
      "3        0\n",
      "4        0\n",
      "        ..\n",
      "31973    0\n",
      "31974    0\n",
      "31975    0\n",
      "31976    0\n",
      "31977    0\n",
      "Name: SalStat, Length: 30162, dtype: int64\n"
     ]
    }
   ],
   "source": [
    "# Reindexing the salary status names to 0,1\n",
    "df3['SalStat'] = df3['SalStat'].map({' less than or equal to 50,000':0,' greater than 50,000':1})\n",
    "print(df3['SalStat'])"
   ]
  },
  {
   "cell_type": "code",
   "execution_count": 43,
   "metadata": {},
   "outputs": [],
   "source": [
    "cols = ['gender','nativecountry','race','JobType']\n",
    "new_data2 = df3.drop(cols,axis = 1)"
   ]
  },
  {
   "cell_type": "code",
   "execution_count": 44,
   "metadata": {},
   "outputs": [],
   "source": [
    "new_data2 = pd.get_dummies(new_data2, drop_first=True)"
   ]
  },
  {
   "cell_type": "code",
   "execution_count": 45,
   "metadata": {},
   "outputs": [
    {
     "name": "stdout",
     "output_type": "stream",
     "text": [
      "['age', 'capitalgain', 'capitalloss', 'hoursperweek', 'SalStat', 'EdType_ 11th', 'EdType_ 12th', 'EdType_ 1st-4th', 'EdType_ 5th-6th', 'EdType_ 7th-8th', 'EdType_ 9th', 'EdType_ Assoc-acdm', 'EdType_ Assoc-voc', 'EdType_ Bachelors', 'EdType_ Doctorate', 'EdType_ HS-grad', 'EdType_ Masters', 'EdType_ Preschool', 'EdType_ Prof-school', 'EdType_ Some-college', 'maritalstatus_ Married-AF-spouse', 'maritalstatus_ Married-civ-spouse', 'maritalstatus_ Married-spouse-absent', 'maritalstatus_ Never-married', 'maritalstatus_ Separated', 'maritalstatus_ Widowed', 'occupation_ Armed-Forces', 'occupation_ Craft-repair', 'occupation_ Exec-managerial', 'occupation_ Farming-fishing', 'occupation_ Handlers-cleaners', 'occupation_ Machine-op-inspct', 'occupation_ Other-service', 'occupation_ Priv-house-serv', 'occupation_ Prof-specialty', 'occupation_ Protective-serv', 'occupation_ Sales', 'occupation_ Tech-support', 'occupation_ Transport-moving', 'relationship_ Not-in-family', 'relationship_ Other-relative', 'relationship_ Own-child', 'relationship_ Unmarried', 'relationship_ Wife']\n"
     ]
    }
   ],
   "source": [
    "# Storing the column names\n",
    "columns_list2 = list(new_data2.columns)\n",
    "print(columns_list2)"
   ]
  },
  {
   "cell_type": "code",
   "execution_count": 46,
   "metadata": {},
   "outputs": [
    {
     "name": "stdout",
     "output_type": "stream",
     "text": [
      "['occupation_ Handlers-cleaners', 'occupation_ Sales', 'relationship_ Own-child', 'occupation_ Craft-repair', 'EdType_ Doctorate', 'relationship_ Wife', 'occupation_ Farming-fishing', 'EdType_ 9th', 'EdType_ HS-grad', 'EdType_ Masters', 'relationship_ Other-relative', 'maritalstatus_ Married-spouse-absent', 'occupation_ Protective-serv', 'maritalstatus_ Separated', 'capitalgain', 'EdType_ 1st-4th', 'EdType_ Bachelors', 'relationship_ Not-in-family', 'occupation_ Exec-managerial', 'EdType_ Assoc-voc', 'occupation_ Tech-support', 'EdType_ 11th', 'occupation_ Priv-house-serv', 'occupation_ Machine-op-inspct', 'occupation_ Prof-specialty', 'maritalstatus_ Married-AF-spouse', 'EdType_ Preschool', 'age', 'hoursperweek', 'EdType_ 12th', 'occupation_ Other-service', 'relationship_ Unmarried', 'maritalstatus_ Married-civ-spouse', 'EdType_ 5th-6th', 'maritalstatus_ Widowed', 'EdType_ Prof-school', 'occupation_ Armed-Forces', 'EdType_ 7th-8th', 'EdType_ Some-college', 'capitalloss', 'EdType_ Assoc-acdm', 'occupation_ Transport-moving', 'maritalstatus_ Never-married']\n"
     ]
    }
   ],
   "source": [
    "# Separating the input names from data\n",
    "features2 = list(set(columns_list2)-set(['SalStat']))\n",
    "print(features2)"
   ]
  },
  {
   "cell_type": "code",
   "execution_count": 47,
   "metadata": {},
   "outputs": [
    {
     "name": "stdout",
     "output_type": "stream",
     "text": [
      "       age  capitalgain  capitalloss  hoursperweek  SalStat  EdType_ 11th  \\\n",
      "0       45            0            0            28        0             0   \n",
      "1       24            0            0            40        0             0   \n",
      "2       44            0            0            40        1             0   \n",
      "3       27            0            0            40        0             0   \n",
      "4       20            0            0            35        0             0   \n",
      "...    ...          ...          ...           ...      ...           ...   \n",
      "31973   34          594            0            60        0             0   \n",
      "31974   34            0            0            40        0             0   \n",
      "31975   23            0            0            40        0             0   \n",
      "31976   42            0            0            40        0             0   \n",
      "31977   29            0            0            40        0             0   \n",
      "\n",
      "       EdType_ 12th  EdType_ 1st-4th  EdType_ 5th-6th  EdType_ 7th-8th  ...  \\\n",
      "0                 0                0                0                0  ...   \n",
      "1                 0                0                0                0  ...   \n",
      "2                 0                0                0                0  ...   \n",
      "3                 0                0                0                0  ...   \n",
      "4                 0                0                0                0  ...   \n",
      "...             ...              ...              ...              ...  ...   \n",
      "31973             0                0                0                0  ...   \n",
      "31974             0                0                0                0  ...   \n",
      "31975             0                0                0                0  ...   \n",
      "31976             0                0                0                0  ...   \n",
      "31977             0                0                0                0  ...   \n",
      "\n",
      "       occupation_ Prof-specialty  occupation_ Protective-serv  \\\n",
      "0                               0                            0   \n",
      "1                               0                            0   \n",
      "2                               1                            0   \n",
      "3                               0                            0   \n",
      "4                               0                            0   \n",
      "...                           ...                          ...   \n",
      "31973                           0                            0   \n",
      "31974                           0                            1   \n",
      "31975                           0                            0   \n",
      "31976                           0                            0   \n",
      "31977                           1                            0   \n",
      "\n",
      "       occupation_ Sales  occupation_ Tech-support  \\\n",
      "0                      0                         0   \n",
      "1                      0                         0   \n",
      "2                      0                         0   \n",
      "3                      0                         0   \n",
      "4                      1                         0   \n",
      "...                  ...                       ...   \n",
      "31973                  0                         0   \n",
      "31974                  0                         0   \n",
      "31975                  0                         0   \n",
      "31976                  0                         0   \n",
      "31977                  0                         0   \n",
      "\n",
      "       occupation_ Transport-moving  relationship_ Not-in-family  \\\n",
      "0                                 0                            1   \n",
      "1                                 0                            0   \n",
      "2                                 0                            0   \n",
      "3                                 0                            0   \n",
      "4                                 0                            1   \n",
      "...                             ...                          ...   \n",
      "31973                             0                            1   \n",
      "31974                             0                            1   \n",
      "31975                             0                            0   \n",
      "31976                             0                            0   \n",
      "31977                             0                            1   \n",
      "\n",
      "       relationship_ Other-relative  relationship_ Own-child  \\\n",
      "0                                 0                        0   \n",
      "1                                 0                        1   \n",
      "2                                 0                        0   \n",
      "3                                 1                        0   \n",
      "4                                 0                        0   \n",
      "...                             ...                      ...   \n",
      "31973                             0                        0   \n",
      "31974                             0                        0   \n",
      "31975                             0                        0   \n",
      "31976                             0                        0   \n",
      "31977                             0                        0   \n",
      "\n",
      "       relationship_ Unmarried  relationship_ Wife  \n",
      "0                            0                   0  \n",
      "1                            0                   0  \n",
      "2                            0                   0  \n",
      "3                            0                   0  \n",
      "4                            0                   0  \n",
      "...                        ...                 ...  \n",
      "31973                        0                   0  \n",
      "31974                        0                   0  \n",
      "31975                        0                   0  \n",
      "31976                        0                   1  \n",
      "31977                        0                   0  \n",
      "\n",
      "[30162 rows x 44 columns]\n"
     ]
    }
   ],
   "source": [
    "print(new_data2)"
   ]
  },
  {
   "cell_type": "code",
   "execution_count": 48,
   "metadata": {},
   "outputs": [
    {
     "name": "stdout",
     "output_type": "stream",
     "text": [
      "[0 0 1 ... 0 0 0]\n"
     ]
    }
   ],
   "source": [
    "# Storing the output values in y\n",
    "y2 = new_data2['SalStat'].values\n",
    "print(y2)"
   ]
  },
  {
   "cell_type": "code",
   "execution_count": 49,
   "metadata": {},
   "outputs": [
    {
     "name": "stdout",
     "output_type": "stream",
     "text": [
      "[[0 0 0 ... 0 0 0]\n",
      " [0 0 1 ... 0 0 1]\n",
      " [0 0 0 ... 0 0 0]\n",
      " ...\n",
      " [0 0 0 ... 0 0 0]\n",
      " [0 0 0 ... 0 0 0]\n",
      " [0 0 0 ... 0 0 1]]\n"
     ]
    }
   ],
   "source": [
    "# Storing the values from input features\n",
    "x2 = new_data2[features2].values\n",
    "print(x2)"
   ]
  },
  {
   "cell_type": "code",
   "execution_count": 50,
   "metadata": {},
   "outputs": [],
   "source": [
    "# Splitting the data into train and test\n",
    "train_x2, test_x2, train_y2, test_y2 = train_test_split(x2, y2, test_size = 0.3, random_state = 0)"
   ]
  },
  {
   "cell_type": "code",
   "execution_count": 51,
   "metadata": {},
   "outputs": [],
   "source": [
    "# Make an instance of the model\n",
    "logistic2 = LogisticRegression()"
   ]
  },
  {
   "cell_type": "code",
   "execution_count": 52,
   "metadata": {},
   "outputs": [
    {
     "data": {
      "text/plain": [
       "LogisticRegression(C=1.0, class_weight=None, dual=False, fit_intercept=True,\n",
       "                   intercept_scaling=1, l1_ratio=None, max_iter=100,\n",
       "                   multi_class='auto', n_jobs=None, penalty='l2',\n",
       "                   random_state=None, solver='lbfgs', tol=0.0001, verbose=0,\n",
       "                   warm_start=False)"
      ]
     },
     "execution_count": 52,
     "metadata": {},
     "output_type": "execute_result"
    }
   ],
   "source": [
    "# Fitting the values for x and y\n",
    "logistic2.fit(train_x2, train_y2)"
   ]
  },
  {
   "cell_type": "code",
   "execution_count": 53,
   "metadata": {},
   "outputs": [
    {
     "name": "stdout",
     "output_type": "stream",
     "text": [
      "[0 0 0 ... 0 0 0]\n"
     ]
    }
   ],
   "source": [
    "# Prediction using test data\n",
    "prediction2 = logistic2.predict(test_x2)\n",
    "print(prediction2)"
   ]
  },
  {
   "cell_type": "code",
   "execution_count": 54,
   "metadata": {},
   "outputs": [
    {
     "name": "stdout",
     "output_type": "stream",
     "text": [
      "[[6289  534]\n",
      " [ 974 1252]]\n"
     ]
    }
   ],
   "source": [
    "# Confusion matrix\n",
    "conf_matrix2 = confusion_matrix(test_y2, prediction2)\n",
    "print(conf_matrix2)"
   ]
  },
  {
   "cell_type": "code",
   "execution_count": 55,
   "metadata": {},
   "outputs": [
    {
     "name": "stdout",
     "output_type": "stream",
     "text": [
      "0.8333517515747596\n"
     ]
    }
   ],
   "source": [
    "# Calculating the accuracy\n",
    "acc_score2 = accuracy_score(test_y2, prediction2)\n",
    "print(acc_score2)"
   ]
  },
  {
   "cell_type": "code",
   "execution_count": 56,
   "metadata": {},
   "outputs": [
    {
     "name": "stdout",
     "output_type": "stream",
     "text": [
      "Misclassified samples: 1508\n"
     ]
    }
   ],
   "source": [
    "# Printing the misclassified values from prediction\n",
    "print('Misclassified samples: %d' % (test_y != prediction2).sum())"
   ]
  },
  {
   "cell_type": "markdown",
   "metadata": {},
   "source": [
    "###  K - Nearest Neighbors (KNN)"
   ]
  },
  {
   "cell_type": "code",
   "execution_count": 57,
   "metadata": {},
   "outputs": [
    {
     "name": "stdout",
     "output_type": "stream",
     "text": [
      "       age       JobType         EdType        maritalstatus  \\\n",
      "0       45       Private        HS-grad             Divorced   \n",
      "1       24   Federal-gov        HS-grad        Never-married   \n",
      "2       44       Private   Some-college   Married-civ-spouse   \n",
      "3       27       Private            9th        Never-married   \n",
      "4       20       Private   Some-college        Never-married   \n",
      "...    ...           ...            ...                  ...   \n",
      "31973   34     Local-gov        HS-grad        Never-married   \n",
      "31974   34     Local-gov   Some-college        Never-married   \n",
      "31975   23       Private   Some-college   Married-civ-spouse   \n",
      "31976   42     Local-gov   Some-college   Married-civ-spouse   \n",
      "31977   29       Private      Bachelors        Never-married   \n",
      "\n",
      "             occupation     relationship    race   gender  capitalgain  \\\n",
      "0          Adm-clerical    Not-in-family   White   Female            0   \n",
      "1          Armed-Forces        Own-child   White     Male            0   \n",
      "2        Prof-specialty          Husband   White     Male            0   \n",
      "3          Craft-repair   Other-relative   White     Male            0   \n",
      "4                 Sales    Not-in-family   White     Male            0   \n",
      "...                 ...              ...     ...      ...          ...   \n",
      "31973   Farming-fishing    Not-in-family   Black     Male          594   \n",
      "31974   Protective-serv    Not-in-family   White   Female            0   \n",
      "31975      Adm-clerical          Husband   White     Male            0   \n",
      "31976      Adm-clerical             Wife   White   Female            0   \n",
      "31977    Prof-specialty    Not-in-family   White     Male            0   \n",
      "\n",
      "       capitalloss  hoursperweek   nativecountry  \\\n",
      "0                0            28   United-States   \n",
      "1                0            40   United-States   \n",
      "2                0            40   United-States   \n",
      "3                0            40          Mexico   \n",
      "4                0            35   United-States   \n",
      "...            ...           ...             ...   \n",
      "31973            0            60   United-States   \n",
      "31974            0            40   United-States   \n",
      "31975            0            40   United-States   \n",
      "31976            0            40   United-States   \n",
      "31977            0            40   United-States   \n",
      "\n",
      "                             SalStat  \n",
      "0       less than or equal to 50,000  \n",
      "1       less than or equal to 50,000  \n",
      "2                greater than 50,000  \n",
      "3       less than or equal to 50,000  \n",
      "4       less than or equal to 50,000  \n",
      "...                              ...  \n",
      "31973   less than or equal to 50,000  \n",
      "31974   less than or equal to 50,000  \n",
      "31975   less than or equal to 50,000  \n",
      "31976   less than or equal to 50,000  \n",
      "31977   less than or equal to 50,000  \n",
      "\n",
      "[30162 rows x 13 columns]\n"
     ]
    }
   ],
   "source": [
    "df4 = df.dropna(axis = 0)\n",
    "print(df4)"
   ]
  },
  {
   "cell_type": "code",
   "execution_count": 58,
   "metadata": {},
   "outputs": [
    {
     "name": "stdout",
     "output_type": "stream",
     "text": [
      "0        0\n",
      "1        0\n",
      "2        1\n",
      "3        0\n",
      "4        0\n",
      "        ..\n",
      "31973    0\n",
      "31974    0\n",
      "31975    0\n",
      "31976    0\n",
      "31977    0\n",
      "Name: SalStat, Length: 30162, dtype: int64\n"
     ]
    }
   ],
   "source": [
    "# Reindexing the salary status names to 0,1\n",
    "df4['SalStat'] = df4['SalStat'].map({' less than or equal to 50,000':0,' greater than 50,000':1})\n",
    "print(df4['SalStat'])"
   ]
  },
  {
   "cell_type": "code",
   "execution_count": 59,
   "metadata": {},
   "outputs": [],
   "source": [
    "new_data3 = pd.get_dummies(df4, drop_first=True)"
   ]
  },
  {
   "cell_type": "code",
   "execution_count": 60,
   "metadata": {},
   "outputs": [
    {
     "name": "stdout",
     "output_type": "stream",
     "text": [
      "['age', 'capitalgain', 'capitalloss', 'hoursperweek', 'SalStat', 'JobType_ Local-gov', 'JobType_ Private', 'JobType_ Self-emp-inc', 'JobType_ Self-emp-not-inc', 'JobType_ State-gov', 'JobType_ Without-pay', 'EdType_ 11th', 'EdType_ 12th', 'EdType_ 1st-4th', 'EdType_ 5th-6th', 'EdType_ 7th-8th', 'EdType_ 9th', 'EdType_ Assoc-acdm', 'EdType_ Assoc-voc', 'EdType_ Bachelors', 'EdType_ Doctorate', 'EdType_ HS-grad', 'EdType_ Masters', 'EdType_ Preschool', 'EdType_ Prof-school', 'EdType_ Some-college', 'maritalstatus_ Married-AF-spouse', 'maritalstatus_ Married-civ-spouse', 'maritalstatus_ Married-spouse-absent', 'maritalstatus_ Never-married', 'maritalstatus_ Separated', 'maritalstatus_ Widowed', 'occupation_ Armed-Forces', 'occupation_ Craft-repair', 'occupation_ Exec-managerial', 'occupation_ Farming-fishing', 'occupation_ Handlers-cleaners', 'occupation_ Machine-op-inspct', 'occupation_ Other-service', 'occupation_ Priv-house-serv', 'occupation_ Prof-specialty', 'occupation_ Protective-serv', 'occupation_ Sales', 'occupation_ Tech-support', 'occupation_ Transport-moving', 'relationship_ Not-in-family', 'relationship_ Other-relative', 'relationship_ Own-child', 'relationship_ Unmarried', 'relationship_ Wife', 'race_ Asian-Pac-Islander', 'race_ Black', 'race_ Other', 'race_ White', 'gender_ Male', 'nativecountry_ Canada', 'nativecountry_ China', 'nativecountry_ Columbia', 'nativecountry_ Cuba', 'nativecountry_ Dominican-Republic', 'nativecountry_ Ecuador', 'nativecountry_ El-Salvador', 'nativecountry_ England', 'nativecountry_ France', 'nativecountry_ Germany', 'nativecountry_ Greece', 'nativecountry_ Guatemala', 'nativecountry_ Haiti', 'nativecountry_ Holand-Netherlands', 'nativecountry_ Honduras', 'nativecountry_ Hong', 'nativecountry_ Hungary', 'nativecountry_ India', 'nativecountry_ Iran', 'nativecountry_ Ireland', 'nativecountry_ Italy', 'nativecountry_ Jamaica', 'nativecountry_ Japan', 'nativecountry_ Laos', 'nativecountry_ Mexico', 'nativecountry_ Nicaragua', 'nativecountry_ Outlying-US(Guam-USVI-etc)', 'nativecountry_ Peru', 'nativecountry_ Philippines', 'nativecountry_ Poland', 'nativecountry_ Portugal', 'nativecountry_ Puerto-Rico', 'nativecountry_ Scotland', 'nativecountry_ South', 'nativecountry_ Taiwan', 'nativecountry_ Thailand', 'nativecountry_ Trinadad&Tobago', 'nativecountry_ United-States', 'nativecountry_ Vietnam', 'nativecountry_ Yugoslavia']\n"
     ]
    }
   ],
   "source": [
    "# Storing the column names\n",
    "columns_list3 = list(new_data3.columns)\n",
    "print(columns_list3)"
   ]
  },
  {
   "cell_type": "code",
   "execution_count": 61,
   "metadata": {},
   "outputs": [
    {
     "name": "stdout",
     "output_type": "stream",
     "text": [
      "['nativecountry_ Portugal', 'relationship_ Own-child', 'race_ Other', 'EdType_ Doctorate', 'nativecountry_ Outlying-US(Guam-USVI-etc)', 'JobType_ State-gov', 'nativecountry_ Canada', 'EdType_ 9th', 'EdType_ Masters', 'relationship_ Other-relative', 'capitalgain', 'nativecountry_ Nicaragua', 'EdType_ Bachelors', 'nativecountry_ Dominican-Republic', 'nativecountry_ Guatemala', 'nativecountry_ Thailand', 'relationship_ Not-in-family', 'occupation_ Exec-managerial', 'nativecountry_ Haiti', 'EdType_ Assoc-voc', 'occupation_ Priv-house-serv', 'nativecountry_ Peru', 'nativecountry_ Hungary', 'race_ White', 'nativecountry_ Hong', 'occupation_ Prof-specialty', 'nativecountry_ Yugoslavia', 'JobType_ Without-pay', 'maritalstatus_ Married-AF-spouse', 'EdType_ Preschool', 'nativecountry_ Holand-Netherlands', 'nativecountry_ Jamaica', 'hoursperweek', 'EdType_ 12th', 'occupation_ Other-service', 'EdType_ 5th-6th', 'maritalstatus_ Widowed', 'nativecountry_ Taiwan', 'occupation_ Armed-Forces', 'nativecountry_ South', 'nativecountry_ El-Salvador', 'capitalloss', 'nativecountry_ Laos', 'nativecountry_ Mexico', 'nativecountry_ United-States', 'nativecountry_ Trinadad&Tobago', 'maritalstatus_ Never-married', 'nativecountry_ Puerto-Rico', 'occupation_ Handlers-cleaners', 'occupation_ Sales', 'race_ Asian-Pac-Islander', 'gender_ Male', 'nativecountry_ Cuba', 'relationship_ Wife', 'occupation_ Farming-fishing', 'nativecountry_ Vietnam', 'JobType_ Self-emp-inc', 'EdType_ HS-grad', 'nativecountry_ Italy', 'maritalstatus_ Married-spouse-absent', 'nativecountry_ Scotland', 'occupation_ Protective-serv', 'maritalstatus_ Separated', 'EdType_ 1st-4th', 'JobType_ Private', 'nativecountry_ Ecuador', 'occupation_ Tech-support', 'EdType_ 11th', 'JobType_ Local-gov', 'nativecountry_ China', 'JobType_ Self-emp-not-inc', 'nativecountry_ Greece', 'nativecountry_ France', 'nativecountry_ Germany', 'occupation_ Machine-op-inspct', 'nativecountry_ Poland', 'race_ Black', 'age', 'nativecountry_ Philippines', 'relationship_ Unmarried', 'maritalstatus_ Married-civ-spouse', 'nativecountry_ Japan', 'EdType_ Prof-school', 'nativecountry_ Honduras', 'EdType_ 7th-8th', 'nativecountry_ India', 'nativecountry_ Iran', 'nativecountry_ Columbia', 'EdType_ Some-college', 'EdType_ Assoc-acdm', 'nativecountry_ England', 'occupation_ Transport-moving', 'nativecountry_ Ireland', 'occupation_ Craft-repair']\n"
     ]
    }
   ],
   "source": [
    "# Separating the input names from data\n",
    "features3 = list(set(columns_list3)-set(['SalStat']))\n",
    "print(features3)"
   ]
  },
  {
   "cell_type": "code",
   "execution_count": 62,
   "metadata": {},
   "outputs": [
    {
     "name": "stdout",
     "output_type": "stream",
     "text": [
      "[0 0 1 ... 0 0 0]\n"
     ]
    }
   ],
   "source": [
    "# Storing the output values in y\n",
    "y3 = new_data3['SalStat'].values\n",
    "print(y3)"
   ]
  },
  {
   "cell_type": "code",
   "execution_count": 63,
   "metadata": {},
   "outputs": [
    {
     "name": "stdout",
     "output_type": "stream",
     "text": [
      "[[0 0 0 ... 0 0 0]\n",
      " [0 1 0 ... 0 0 0]\n",
      " [0 0 0 ... 0 0 0]\n",
      " ...\n",
      " [0 0 0 ... 0 0 0]\n",
      " [0 0 0 ... 0 0 0]\n",
      " [0 0 0 ... 0 0 0]]\n"
     ]
    }
   ],
   "source": [
    "# Storing the values from input features\n",
    "x3 = new_data3[features3].values\n",
    "print(x3)"
   ]
  },
  {
   "cell_type": "code",
   "execution_count": 64,
   "metadata": {},
   "outputs": [],
   "source": [
    "# Splitting the data into train and test\n",
    "train_x3,test_x3,train_y3,test_y3 = train_test_split(x3, y3, test_size=0.3, random_state=0)"
   ]
  },
  {
   "cell_type": "code",
   "execution_count": 65,
   "metadata": {},
   "outputs": [],
   "source": [
    "# Storing the K nearest neighbors classifier\n",
    "KNN_classifier = KNeighborsClassifier(n_neighbors = 5)"
   ]
  },
  {
   "cell_type": "code",
   "execution_count": 66,
   "metadata": {},
   "outputs": [
    {
     "data": {
      "text/plain": [
       "KNeighborsClassifier(algorithm='auto', leaf_size=30, metric='minkowski',\n",
       "                     metric_params=None, n_jobs=None, n_neighbors=5, p=2,\n",
       "                     weights='uniform')"
      ]
     },
     "execution_count": 66,
     "metadata": {},
     "output_type": "execute_result"
    }
   ],
   "source": [
    "# Fitting the values for x and y\n",
    "KNN_classifier.fit(train_x3, train_y3)"
   ]
  },
  {
   "cell_type": "code",
   "execution_count": 67,
   "metadata": {},
   "outputs": [],
   "source": [
    "# Predicting the test values with model\n",
    "prediction3 = KNN_classifier.predict(test_x3)"
   ]
  },
  {
   "cell_type": "code",
   "execution_count": 68,
   "metadata": {},
   "outputs": [
    {
     "name": "stdout",
     "output_type": "stream",
     "text": [
      "[[6181  642]\n",
      " [ 814 1412]]\n"
     ]
    }
   ],
   "source": [
    "# Performance metric check\n",
    "conf_matrix3 = confusion_matrix(test_y3, prediction3)\n",
    "print(conf_matrix3)"
   ]
  },
  {
   "cell_type": "code",
   "execution_count": 69,
   "metadata": {},
   "outputs": [
    {
     "name": "stdout",
     "output_type": "stream",
     "text": [
      "0.839098242899768\n"
     ]
    }
   ],
   "source": [
    "# Calculating the accuracy\n",
    "acc_score3 = accuracy_score(test_y3, prediction3)\n",
    "print(acc_score3)"
   ]
  },
  {
   "cell_type": "code",
   "execution_count": 70,
   "metadata": {},
   "outputs": [
    {
     "name": "stdout",
     "output_type": "stream",
     "text": [
      "Misclassified samples: 1479\n"
     ]
    }
   ],
   "source": [
    "print('Misclassified samples: %d' % (test_y3 != prediction).sum())"
   ]
  },
  {
   "cell_type": "markdown",
   "metadata": {},
   "source": [
    "### Final Results"
   ]
  },
  {
   "cell_type": "code",
   "execution_count": 71,
   "metadata": {},
   "outputs": [
    {
     "name": "stdout",
     "output_type": "stream",
     "text": [
      "\n",
      " Accuracy of Logistic Regression classifier =  0.8365565255829374\n",
      "\n",
      " Accuracy of Logistic Regression classifier (After Removing Insignificant Variables) =  0.8333517515747596\n",
      "\n",
      " Accuracy of KNN classifier =  0.839098242899768\n"
     ]
    }
   ],
   "source": [
    "print(\"\\n Accuracy of Logistic Regression classifier = \",acc_score)\n",
    "print(\"\\n Accuracy of Logistic Regression classifier (After Removing Insignificant Variables) = \",acc_score2)\n",
    "print(\"\\n Accuracy of KNN classifier = \",acc_score3)"
   ]
  },
  {
   "cell_type": "code",
   "execution_count": 72,
   "metadata": {},
   "outputs": [
    {
     "name": "stdout",
     "output_type": "stream",
     "text": [
      "Maximum accuracy =  0.839098242899768\n"
     ]
    }
   ],
   "source": [
    "print(\"Maximum accuracy = \", max(acc_score, acc_score2, acc_score3))"
   ]
  },
  {
   "cell_type": "markdown",
   "metadata": {},
   "source": [
    "It can be seen that the accuracy of the KNN classifier is slightly higher than the accuracy of the Logistic Regression classifier."
   ]
  },
  {
   "cell_type": "code",
   "execution_count": null,
   "metadata": {},
   "outputs": [],
   "source": []
  }
 ],
 "metadata": {
  "kernelspec": {
   "display_name": "Python 3",
   "language": "python",
   "name": "python3"
  },
  "language_info": {
   "codemirror_mode": {
    "name": "ipython",
    "version": 3
   },
   "file_extension": ".py",
   "mimetype": "text/x-python",
   "name": "python",
   "nbconvert_exporter": "python",
   "pygments_lexer": "ipython3",
   "version": "3.8.5"
  }
 },
 "nbformat": 4,
 "nbformat_minor": 4
}
